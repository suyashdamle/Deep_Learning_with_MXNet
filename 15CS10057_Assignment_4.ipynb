{
 "cells": [
  {
   "cell_type": "markdown",
   "metadata": {},
   "source": [
    "# Assignment 4: LSTM from Scratch using MxNet\n",
    "***\n",
    "Submitted By: Suyash Damle\n",
    "\n",
    "Roll : 15CS10057\n",
    "\n",
    "***\n",
    "\n",
    "### NOTE:\n",
    "- The code requires **pre-trained FastText embeddings**. These are available here: https://dl.fbaipublicfiles.com/fasttext/vectors-english/wiki-news-300d-1M.vec.zip  & it should be unzipped\n",
    "- The file location of the train,test data & embeddings are to be specified as a global variables in the \"Global Variables\" section\n",
    "- **As the parameter files were too large, I have uploaded them on google drive. They are available on these links:**\n",
    "    - for one-hot encoding model: https://drive.google.com/file/d/182DnuEdSaso1Q03-ZzXhOpg09rhitTiY/view?usp=sharing\n",
    "    - for embeddings model: https://drive.google.com/file/d/1NkTpkSyFm0bgKHEKuJDpxH0FZaMfdohi/view?usp=sharing"
   ]
  },
  {
   "cell_type": "code",
   "execution_count": 1,
   "metadata": {},
   "outputs": [],
   "source": [
    "import mxnet as mx\n",
    "from mxnet import nd\n",
    "from mxnet import autograd\n",
    "import numpy as np\n",
    "import re\n",
    "import io\n",
    "import pickle\n",
    "from zipfile import ZipFile\n",
    "import matplotlib.pyplot as plt\n",
    "%matplotlib inline"
   ]
  },
  {
   "cell_type": "markdown",
   "metadata": {},
   "source": [
    "#### Global Variables"
   ]
  },
  {
   "cell_type": "code",
   "execution_count": 2,
   "metadata": {},
   "outputs": [],
   "source": [
    "train_file = \"data/train.txt\"\n",
    "test_file = \"data/test.txt\"\n",
    "embeddings_file = \"data/wiki-news-300d-1M.vec\"\n",
    "short_embeddings_file = \"data/short_embeddings_file.pkl\"\n",
    "\n",
    "### Global Parameters\n",
    "embedding_matrix = None\n",
    "embedding_size = 300\n",
    "vocab_dict = None\n",
    "ctx = mx.cpu()"
   ]
  },
  {
   "cell_type": "markdown",
   "metadata": {},
   "source": [
    "#### Preprocessing"
   ]
  },
  {
   "cell_type": "code",
   "execution_count": 3,
   "metadata": {},
   "outputs": [],
   "source": [
    "# function to get FastText word embeddings for our specific vocab\n",
    "def load_vectors(fname, vocab_dict):\n",
    "    '''\n",
    "    Since our vocab is expected to much smaller than the fasttext vocab, we only...\n",
    "    ... retain the embeddings required for our purpose in the main memory.\n",
    "    Special token </s>(the start symbol) is assigned all-zero embeddings.\n",
    "    \n",
    "    Params:\n",
    "        fname : the name of the zip of the file\n",
    "        vocab : the vocab dict of our dataset: <token : idx>\n",
    "    Returns:\n",
    "        np array: row at the idx of token (from dict) contains the embedding\n",
    "    '''\n",
    "    \n",
    "    fin = io.open(fname, 'r', encoding='utf-8', newline='\\n', errors='ignore')\n",
    "    n, d = map(int, fin.readline().split())\n",
    "    data = np.zeros((len(vocab_dict),embedding_size))\n",
    "    for line in fin:\n",
    "        tokens = line.rstrip().split(' ')\n",
    "        if (tokens[0] in vocab_dict.keys()) or tokens[0]=='</s>':\n",
    "            if tokens[0] == '</s>':\n",
    "                data[vocab_dict['</s>']]=np.zeros(embedding_size)\n",
    "            elif tokens[0] =='/e':\n",
    "                data[vocab_dict['/e']]=np.ones(embedding_size)\n",
    "            else:\n",
    "                data[vocab_dict[tokens[0]]] = np.array(list(map(float, tokens[1:])))\n",
    "    pickle.dump(data,open(short_embeddings_file,'wb'))\n",
    "    return data"
   ]
  },
  {
   "cell_type": "code",
   "execution_count": 4,
   "metadata": {},
   "outputs": [],
   "source": [
    "def preprocess(sentences):\n",
    "    sents=[]\n",
    "    for sent in sentences:\n",
    "        sent = re.sub(r\"^[a-zA-Z]\",\" \",sent)\n",
    "        sent=sent.lower().split()\n",
    "#         sent.insert(0,'</s>')\n",
    "#         sent.append('</e>')\n",
    "        sents.append(sent)\n",
    "        \n",
    "    return sents    \n",
    "        \n",
    "    \n",
    "def build_vocab(sentences):\n",
    "    \"\"\"\n",
    "    Builds a vocabulary mapping from token to index based on the sentences.\n",
    "    Returns vocabulary mapping and inverse vocabulary mapping.\n",
    "    \"\"\"\n",
    "    tokens=[]\n",
    "    # Mapping from index to word\n",
    "    for sent in sentences:\n",
    "        tokens.extend(sent)\n",
    "        \n",
    "    vocabulary_inv=list(set(tokens))\n",
    "    \n",
    "    # Mapping from word to index\n",
    "    vocabulary = {vocabulary_inv[i]: i for i in range(len(vocabulary_inv))}\n",
    "    \n",
    "    return vocabulary, vocabulary_inv\n",
    "\n",
    "def create_sent_representation(sent,type='one-hot'):\n",
    "    '''\n",
    "    Returns an embedding matrix for the string\n",
    "    Params:\n",
    "        sent: the string to be converted to matrix\n",
    "        type: 'one-hot' / 'pre-trained'\n",
    "    Returns:\n",
    "        list of vectors representing the sentence\n",
    "    '''\n",
    "    global embedding_matrix\n",
    "    #sent_matrix = None\n",
    "    sent_matrix=[]\n",
    "    if (type == 'pre-trained') and (embedding_matrix is None):\n",
    "        embedding_matrix = load_vectors(embeddings_file,vocab_dict)\n",
    "        #sent_matrix = np.zeros((len(sent), embedding_size))\n",
    "    #else:\n",
    "        #sent_matrix = np.zeros((len(sent), len(vocab_dict)))\n",
    "        \n",
    "    for idx,word in enumerate(sent):\n",
    "        if type=='one-hot':\n",
    "            vect = np.zeros(len(vocab_dict))\n",
    "            vect[vocab_dict[word]] = 1\n",
    "            #sent_matrix[idx] = vect\n",
    "            sent_matrix.append(vect)\n",
    "        else:\n",
    "            #sent_matrix[idx] = embedding_matrix[vocab_dict[word]]\n",
    "            sent_matrix.append(embedding_matrix[vocab_dict[word]])\n",
    "    return sent_matrix\n"
   ]
  },
  {
   "cell_type": "code",
   "execution_count": 18,
   "metadata": {},
   "outputs": [],
   "source": [
    "with open(train_file,'r') as f:\n",
    "    train_data=f.readlines()\n",
    "with open(test_file,'r') as f:\n",
    "    test_data=f.readlines()\n",
    "l_train = len(train_data)\n",
    "all_data = train_data+test_data"
   ]
  },
  {
   "cell_type": "code",
   "execution_count": 19,
   "metadata": {},
   "outputs": [],
   "source": [
    "all_data = preprocess(all_data)\n",
    "vocab_dict , inv_vocab = build_vocab(all_data)"
   ]
  },
  {
   "cell_type": "markdown",
   "metadata": {},
   "source": [
    "#### The LSTM model from scratch\n",
    "***\n",
    "Following are the formulae:\n",
    "\n",
    "$$g_t = \\text{tanh}(X_t W_{xg} + h_{t-1} W_{hg} + b_g)$$\n",
    "$$i_t = \\sigma(X_t W_{xi} + h_{t-1} W_{hi} + b_i)$$\n",
    "$$f_t = \\sigma(X_t W_{xf} + h_{t-1} W_{hf} + b_f)$$\n",
    "$$o_t = \\sigma(X_t W_{xo} + h_{t-1} W_{ho} + b_o)$$\n",
    "$$c_t = f_t \\odot c_{t-1} + i_t \\odot g_t$$\n",
    "$$h_t = o_t \\odot \\text{tanh}(c_t)$$"
   ]
  },
  {
   "cell_type": "markdown",
   "metadata": {},
   "source": [
    "## Using the One-Hot encodings"
   ]
  },
  {
   "cell_type": "code",
   "execution_count": 7,
   "metadata": {},
   "outputs": [],
   "source": [
    "vocab_size = len(vocab_dict)\n",
    "num_inputs = vocab_size\n",
    "num_hidden = 100\n",
    "num_outputs = vocab_size\n",
    "\n",
    "#  Weights connecting the inputs to the hidden layer\n",
    "Wxg = nd.random_normal(shape=(num_inputs,num_hidden), ctx=ctx) * .01\n",
    "Wxi = nd.random_normal(shape=(num_inputs,num_hidden), ctx=ctx) * .01\n",
    "Wxf = nd.random_normal(shape=(num_inputs,num_hidden), ctx=ctx) * .01\n",
    "Wxo = nd.random_normal(shape=(num_inputs,num_hidden), ctx=ctx) * .01\n",
    "\n",
    "#  Recurrent weights connecting the hidden layer across time steps\n",
    "Whg = nd.random_normal(shape=(num_hidden,num_hidden), ctx=ctx)* .01\n",
    "Whi = nd.random_normal(shape=(num_hidden,num_hidden), ctx=ctx)* .01\n",
    "Whf = nd.random_normal(shape=(num_hidden,num_hidden), ctx=ctx)* .01\n",
    "Who = nd.random_normal(shape=(num_hidden,num_hidden), ctx=ctx)* .01\n",
    "\n",
    "#  Bias vector for hidden layer\n",
    "bg = nd.random_normal(shape=num_hidden, ctx=ctx) * .01\n",
    "bi = nd.random_normal(shape=num_hidden, ctx=ctx) * .01\n",
    "bf = nd.random_normal(shape=num_hidden, ctx=ctx) * .01\n",
    "bo = nd.random_normal(shape=num_hidden, ctx=ctx) * .01\n",
    "\n",
    "# Weights to the output nodes\n",
    "Why = nd.random_normal(shape=(num_hidden,num_outputs), ctx=ctx) * .01\n",
    "by = nd.random_normal(shape=num_outputs, ctx=ctx) * .01\n",
    "\n",
    "\n",
    "# The gradients attached\n",
    "params = [Wxg, Wxi, Wxf, Wxo, Whg, Whi, Whf, Who, bg, bi, bf, bo, Why, by]\n",
    "for param in params:\n",
    "    param.attach_grad()"
   ]
  },
  {
   "cell_type": "code",
   "execution_count": 8,
   "metadata": {},
   "outputs": [],
   "source": [
    "def softmax(y_linear):\n",
    "    lin = (y_linear-nd.max(y_linear))\n",
    "    exp = nd.exp(lin)\n",
    "    partition = nd.sum(exp, axis=0, exclude=True).reshape((-1,1))\n",
    "    return exp / partition\n",
    "\n",
    "def cross_entropy(yhat, y):\n",
    "    return - nd.mean(nd.sum(y * nd.log(yhat), axis=0, exclude=True))"
   ]
  },
  {
   "cell_type": "code",
   "execution_count": 9,
   "metadata": {},
   "outputs": [],
   "source": [
    "def lstm_rnn(inputs, h, c):\n",
    "    outputs = []\n",
    "    for X in inputs:\n",
    "        #X = nd.array(X, ctx=ctx)\n",
    "        g = nd.tanh(nd.dot(X, Wxg) + nd.dot(h, Whg) + bg)\n",
    "        i = nd.sigmoid(nd.dot(X, Wxi) + nd.dot(h, Whi) + bi)\n",
    "        f = nd.sigmoid(nd.dot(X, Wxf) + nd.dot(h, Whf) + bf)\n",
    "        o = nd.sigmoid(nd.dot(X, Wxo) + nd.dot(h, Who) + bo)\n",
    "        c = f * c + i * g\n",
    "        h = o * nd.tanh(c)\n",
    "        yhat_linear = nd.dot(h, Why) + by\n",
    "        yhat = softmax(yhat_linear)\n",
    "        outputs.append(yhat)\n",
    "    return (outputs, h, c)\n",
    "\n",
    "def average_ce_loss(outputs, labels):\n",
    "    #labels = nd.array(labels, ctx=ctx)\n",
    "    assert(len(outputs) == len(labels))\n",
    "    total_loss = 0.\n",
    "    for (output, label) in zip(outputs,labels):\n",
    "        total_loss = total_loss + cross_entropy(output, label)\n",
    "    return total_loss / len(outputs)\n",
    "\n",
    "def SGD(params, lr):\n",
    "    for param in params:\n",
    "        # with gradient clipping\n",
    "        param[:] = param - lr * param.grad"
   ]
  },
  {
   "cell_type": "markdown",
   "metadata": {},
   "source": [
    "#### Other specifics for the model"
   ]
  },
  {
   "cell_type": "code",
   "execution_count": 20,
   "metadata": {},
   "outputs": [],
   "source": [
    "all_vects = []\n",
    "for sent in all_data:\n",
    "    all_vects.append(create_sent_representation(sent))\n",
    "train_data_org = all_vects[:l_train]\n",
    "test_data_org = all_vects[l_train:]"
   ]
  },
  {
   "cell_type": "code",
   "execution_count": 21,
   "metadata": {},
   "outputs": [],
   "source": [
    "train_data_cont=[]\n",
    "for sent in train_data_org:\n",
    "    train_data_cont.extend(sent)\n",
    "\n",
    "batch_size = 128\n",
    "seq_length = 1\n",
    "# -1 here so we have enough characters for labels later\n",
    "num_samples = (len(train_data_cont) - 1) // seq_length\n",
    "dataset = train_data_cont[:seq_length*num_samples]\n",
    "dataset = np.array(dataset).reshape((num_samples, seq_length, vocab_size))\n",
    "num_batches = len(dataset) // batch_size\n",
    "train_data = dataset[:num_batches*batch_size].reshape((num_batches, batch_size, seq_length, vocab_size))\n",
    "# swap batch_size and seq_length axis to make later access easier\n",
    "train_data = np.swapaxes(train_data, 1, 2)\n",
    "labels = (train_data_cont[1:seq_length*num_samples+1])[:num_batches*batch_size]\n",
    "train_label = np.array(labels).reshape((num_batches, batch_size, seq_length, vocab_size))\n",
    "train_label = np.swapaxes(train_label, 1, 2)"
   ]
  },
  {
   "cell_type": "code",
   "execution_count": 12,
   "metadata": {},
   "outputs": [
    {
     "name": "stdout",
     "output_type": "stream",
     "text": [
      "33788\n",
      "(33787, 1, 7161)\n",
      "(263, 1, 128, 7161)\n"
     ]
    }
   ],
   "source": [
    "print(len(train_data_cont))\n",
    "print(dataset.shape)\n",
    "print(train_data.shape)"
   ]
  },
  {
   "cell_type": "code",
   "execution_count": 62,
   "metadata": {},
   "outputs": [],
   "source": [
    "def test_fn(test_data, type=1,encoding='one-hot'):\n",
    "    total_pred=0.0\n",
    "    correct_pred=0.0\n",
    "    for sent in test_data:\n",
    "        h = nd.zeros(shape=(1, num_hidden), ctx=ctx)\n",
    "        c = nd.zeros(shape=(1, num_hidden), ctx=ctx)\n",
    "        if type==1:\n",
    "            total_pred +=1\n",
    "            input_sequence = nd.array(sent[:-1], ctx=ctx)\n",
    "            outputs, h, c = lstm_rnn(input_sequence, h, c)\n",
    "            if np.argmax(sent[-1])==np.argmax(outputs[-1].asnumpy()):\n",
    "                correct_pred+=1\n",
    "        else:\n",
    "            input_sequence = nd.array(sent[:int(len(sent)/2)],ctx=ctx)\n",
    "            yhat,h,c = lstm_rnn(input_sequence, h, c)\n",
    "            # run on first half of sentence:\n",
    "            for word in sent[int(len(sent)/2):]:\n",
    "                total_pred+=1\n",
    "                # feed previous output as input this time\n",
    "                X=yhat[-1]\n",
    "                if encoding=='pre-trained':\n",
    "                    #print(np.argmax(yhat[-1].asnumpy()))\n",
    "                    X=nd.array(embedding_matrix[np.argmax(yhat[-1].asnumpy())],ctx=ctx)\n",
    "                g = nd.tanh(nd.dot(X, Wxg) + nd.dot(h, Whg) + bg)\n",
    "                i = nd.sigmoid(nd.dot(X, Wxi) + nd.dot(h, Whi) + bi)\n",
    "                f = nd.sigmoid(nd.dot(X, Wxf) + nd.dot(h, Whf) + bf)\n",
    "                o = nd.sigmoid(nd.dot(X, Wxo) + nd.dot(h, Who) + bo)\n",
    "                c = f * c + i * g\n",
    "                h = o * nd.tanh(c)\n",
    "                yhat_linear = nd.dot(h, Why) + by\n",
    "                yhat = softmax(yhat_linear)\n",
    "                if np.argmax(yhat[-1].asnumpy)==np.argmax(word):\n",
    "                    correct_pred+=1\n",
    "            \n",
    "    acc = correct_pred/total_pred\n",
    "    return acc"
   ]
  },
  {
   "cell_type": "code",
   "execution_count": 22,
   "metadata": {},
   "outputs": [
    {
     "name": "stdout",
     "output_type": "stream",
     "text": [
      "Epoch 0. Loss: 6.69921\n",
      "Epoch 5. Loss: 5.89201\n",
      "Epoch 10. Loss: 5.52554\n",
      "Epoch 15. Loss: 5.38315\n",
      "Epoch 20. Loss: 5.30624\n",
      "Epoch 25. Loss: 5.27942\n"
     ]
    }
   ],
   "source": [
    "epochs = 30\n",
    "learning_rate = 4\n",
    "\n",
    "train_data = nd.array(train_data, ctx=ctx)\n",
    "train_label = nd.array(train_label, ctx=ctx)\n",
    "\n",
    "h = nd.zeros(shape=(batch_size, num_hidden), ctx=ctx)\n",
    "c = nd.zeros(shape=(batch_size, num_hidden), ctx=ctx)\n",
    "\n",
    "# state = nd.zeros(shape=(batch_size, num_hidden), ctx=ctx)\n",
    "epoch_data=[]\n",
    "error_data=[]\n",
    "for e in range(epochs):\n",
    "    # Attenuate the learning rate by a factor of 2 every 5 epochs\n",
    "    if ((e+1) % 5 == 0):\n",
    "        learning_rate = learning_rate / 2.0\n",
    "\n",
    "    for i in range(num_batches):\n",
    "        data_one_hot = train_data[i]\n",
    "        label_one_hot = train_label[i]\n",
    "        with autograd.record():\n",
    "            outputs, h, c = lstm_rnn(data_one_hot, h, c)\n",
    "            loss = average_ce_loss(outputs, label_one_hot)\n",
    "            loss.backward()\n",
    "        SGD(params, learning_rate)\n",
    "        op_loss = nd.mean(loss).asscalar()\n",
    "    epoch_data.append(e+1)\n",
    "    error_data.append(op_loss)\n",
    "    if e%5==0:\n",
    "        print(\"Epoch %s. Loss: %s\" % (e, op_loss))"
   ]
  },
  {
   "cell_type": "code",
   "execution_count": 24,
   "metadata": {},
   "outputs": [
    {
     "data": {
      "image/png": "[encoded data removed]",
      "text/plain": [
       "<Figure size 432x288 with 1 Axes>"
      ]
     },
     "metadata": {
      "needs_background": "light"
     },
     "output_type": "display_data"
    }
   ],
   "source": [
    "plt.plot(epoch_data,error_data)\n",
    "plt.show()"
   ]
  },
  {
   "cell_type": "code",
   "execution_count": 25,
   "metadata": {},
   "outputs": [],
   "source": [
    "nd.save(\"data/saved_params\",params)"
   ]
  },
  {
   "cell_type": "markdown",
   "metadata": {},
   "source": [
    "### Sample Predictions"
   ]
  },
  {
   "cell_type": "code",
   "execution_count": 38,
   "metadata": {},
   "outputs": [
    {
     "name": "stdout",
     "output_type": "stream",
     "text": [
      "best\n"
     ]
    }
   ],
   "source": [
    "sent = \"this is the\" #....\n",
    "sent = create_sent_representation(sent.split())\n",
    "h = nd.zeros(shape=(1, num_hidden), ctx=ctx)\n",
    "c = nd.zeros(shape=(1, num_hidden), ctx=ctx)\n",
    "outputs,_,_ = lstm_rnn(nd.array(sent,  ctx=ctx),h,c)\n",
    "print(inv_vocab[np.argmax(outputs[-1].asnumpy())])"
   ]
  },
  {
   "cell_type": "code",
   "execution_count": 39,
   "metadata": {},
   "outputs": [
    {
     "name": "stdout",
     "output_type": "stream",
     "text": [
      "accuracy for predicting last word is: 0.02046783625730994\n",
      "accuracy for predicting half the sentence is: 0.0\n"
     ]
    }
   ],
   "source": [
    "print (\"accuracy for predicting last word is:\" ,test_fn(test_data_org))\n",
    "print (\"accuracy for predicting half the sentence is:\" ,test_fn(test_data_org,type=2))"
   ]
  },
  {
   "cell_type": "markdown",
   "metadata": {},
   "source": [
    "## Using FastText Word Embeddings"
   ]
  },
  {
   "cell_type": "code",
   "execution_count": 40,
   "metadata": {},
   "outputs": [],
   "source": [
    "vocab_size = len(vocab_dict)\n",
    "num_inputs = embedding_size\n",
    "num_hidden = 100\n",
    "num_outputs = vocab_size\n",
    "\n",
    "#  Weights connecting the inputs to the hidden layer\n",
    "Wxg = nd.random_normal(shape=(num_inputs,num_hidden), ctx=ctx) * .01\n",
    "Wxi = nd.random_normal(shape=(num_inputs,num_hidden), ctx=ctx) * .01\n",
    "Wxf = nd.random_normal(shape=(num_inputs,num_hidden), ctx=ctx) * .01\n",
    "Wxo = nd.random_normal(shape=(num_inputs,num_hidden), ctx=ctx) * .01\n",
    "\n",
    "#  Recurrent weights connecting the hidden layer across time steps\n",
    "Whg = nd.random_normal(shape=(num_hidden,num_hidden), ctx=ctx)* .01\n",
    "Whi = nd.random_normal(shape=(num_hidden,num_hidden), ctx=ctx)* .01\n",
    "Whf = nd.random_normal(shape=(num_hidden,num_hidden), ctx=ctx)* .01\n",
    "Who = nd.random_normal(shape=(num_hidden,num_hidden), ctx=ctx)* .01\n",
    "\n",
    "#  Bias vector for hidden layer\n",
    "bg = nd.random_normal(shape=num_hidden, ctx=ctx) * .01\n",
    "bi = nd.random_normal(shape=num_hidden, ctx=ctx) * .01\n",
    "bf = nd.random_normal(shape=num_hidden, ctx=ctx) * .01\n",
    "bo = nd.random_normal(shape=num_hidden, ctx=ctx) * .01\n",
    "\n",
    "# Weights to the output nodes\n",
    "Why = nd.random_normal(shape=(num_hidden,num_outputs), ctx=ctx) * .01\n",
    "by = nd.random_normal(shape=num_outputs, ctx=ctx) * .01\n",
    "\n",
    "\n",
    "# The gradients attached\n",
    "params = [Wxg, Wxi, Wxf, Wxo, Whg, Whi, Whf, Who, bg, bi, bf, bo, Why, by]\n",
    "for param in params:\n",
    "    param.attach_grad()"
   ]
  },
  {
   "cell_type": "code",
   "execution_count": 41,
   "metadata": {},
   "outputs": [],
   "source": [
    "all_vects = []\n",
    "for sent in all_data:\n",
    "    all_vects.append(create_sent_representation(sent,type=\"pre-trained\"))\n",
    "train_data_org = all_vects[:l_train]\n",
    "test_data_org = all_vects[l_train:]"
   ]
  },
  {
   "cell_type": "code",
   "execution_count": 42,
   "metadata": {},
   "outputs": [],
   "source": [
    "train_data_cont=[]\n",
    "for sent in train_data_org:\n",
    "    train_data_cont.extend(sent)\n",
    "    \n",
    "# Splitting into batches\n",
    "\n",
    "batch_size = 128\n",
    "seq_length = 1\n",
    "# -1 here so we have enough characters for labels later\n",
    "num_samples = (len(train_data_cont) - 1) // seq_length\n",
    "dataset = train_data_cont[:seq_length*num_samples]\n",
    "dataset = np.array(dataset).reshape((num_samples, seq_length, embedding_size))\n",
    "num_batches = len(dataset) // batch_size\n",
    "train_data = dataset[:num_batches*batch_size].reshape((num_batches, batch_size, seq_length, embedding_size))\n",
    "# swap batch_size and seq_length axis to make later access easier\n",
    "train_data = np.swapaxes(train_data, 1, 2)\n",
    "# labels = (train_data_cont[1:seq_length*num_samples+1])[:num_batches*batch_size]\n",
    "# train_label = np.array(labels).reshape((num_batches, batch_size, seq_length, embedding_size))\n",
    "# train_label = np.swapaxes(train_label, 1, 2)"
   ]
  },
  {
   "cell_type": "code",
   "execution_count": 44,
   "metadata": {},
   "outputs": [
    {
     "name": "stdout",
     "output_type": "stream",
     "text": [
      "Epoch 0. Loss: 6.48249\n",
      "Epoch 5. Loss: 5.76998\n",
      "Epoch 10. Loss: 5.25046\n",
      "Epoch 15. Loss: 4.97071\n",
      "Epoch 20. Loss: 4.8946\n",
      "Epoch 25. Loss: 4.87144\n"
     ]
    }
   ],
   "source": [
    "epochs = 30\n",
    "learning_rate = 4\n",
    "\n",
    "train_data = nd.array(train_data, ctx=ctx)\n",
    "train_label = nd.array(train_label, ctx=ctx)\n",
    "\n",
    "h = nd.zeros(shape=(batch_size, num_hidden), ctx=ctx)\n",
    "c = nd.zeros(shape=(batch_size, num_hidden), ctx=ctx)\n",
    "epoch_data=[]\n",
    "error_data=[]\n",
    "# state = nd.zeros(shape=(batch_size, num_hidden), ctx=ctx)\n",
    "for e in range(epochs):\n",
    "    # Attenuate the learning rate by a factor of 2 every 2 epochs\n",
    "    if ((e+1) % 5 == 0):\n",
    "        learning_rate = learning_rate / 2.0\n",
    "    \n",
    "    for i in range(num_batches):\n",
    "        data_one_hot = train_data[i]\n",
    "        label_one_hot = train_label[i]\n",
    "        with autograd.record():\n",
    "            outputs, h, c = lstm_rnn(data_one_hot, h, c)\n",
    "            loss = average_ce_loss(outputs, label_one_hot)\n",
    "            loss.backward()\n",
    "        SGD(params, learning_rate)\n",
    "        op_loss = nd.mean(loss).asscalar()\n",
    "    epoch_data.append(e+1)\n",
    "    error_data.append(op_loss)\n",
    "    if e%5==0:\n",
    "        print(\"Epoch %s. Loss: %s\" % (e, op_loss))"
   ]
  },
  {
   "cell_type": "code",
   "execution_count": 45,
   "metadata": {},
   "outputs": [
    {
     "data": {
      "image/png": "[encoded data removed]",
      "text/plain": [
       "<Figure size 432x288 with 1 Axes>"
      ]
     },
     "metadata": {
      "needs_background": "light"
     },
     "output_type": "display_data"
    }
   ],
   "source": [
    "plt.plot(epoch_data,error_data)\n",
    "plt.show()"
   ]
  },
  {
   "cell_type": "code",
   "execution_count": 46,
   "metadata": {},
   "outputs": [],
   "source": [
    "nd.save(\"data/saved_params_2\",params)"
   ]
  },
  {
   "cell_type": "code",
   "execution_count": 64,
   "metadata": {},
   "outputs": [
    {
     "name": "stdout",
     "output_type": "stream",
     "text": [
      "accuracy for predicting last word is: 0.0\n",
      "accuracy for predicting half the sentence is: 0.030256251929607902\n"
     ]
    }
   ],
   "source": [
    "print (\"accuracy for predicting last word is:\" ,test_fn(test_data_org,encoding='pre-trained'))\n",
    "print (\"accuracy for predicting half the sentence is:\" ,test_fn(test_data_org,type=2,encoding='pre-trained'))"
   ]
  }
 ],
 "metadata": {
  "kernelspec": {
   "display_name": "Python 3",
   "language": "python",
   "name": "python3"
  },
  "language_info": {
   "codemirror_mode": {
    "name": "ipython",
    "version": 3
   },
   "file_extension": ".py",
   "mimetype": "text/x-python",
   "name": "python",
   "nbconvert_exporter": "python",
   "pygments_lexer": "ipython3",
   "version": "3.6.7"
  }
 },
 "nbformat": 4,
 "nbformat_minor": 2
}
