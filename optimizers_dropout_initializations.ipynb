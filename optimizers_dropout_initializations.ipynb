{
 "cells": [
  {
   "cell_type": "markdown",
   "metadata": {},
   "source": [
    "## Task 2: Experiment with Initialization, Regularization and Optimizers\n",
    "***\n",
    "**Implementation specifics:**\n",
    "- Validation data kept separate in this task as well, in order to keep parity between Network 2 of Task 1 and the models being trained in this task\n",
    "- All models run for 50 epochs\n",
    "- Direct use of APIs done for the optimizers\n",
    "- Learning rate kept at 0.001 as before\n",
    "- Accuracies printed while training\n",
    "- Varying parameters of the initializers could significantly change the results"
   ]
  },
  {
   "cell_type": "code",
   "execution_count": 2,
   "metadata": {},
   "outputs": [],
   "source": [
    "from zipfile import ZipFile\n",
    "import numpy as np\n",
    "import mxnet as mx\n",
    "\n",
    "display_step=10"
   ]
  },
  {
   "cell_type": "code",
   "execution_count": 3,
   "metadata": {},
   "outputs": [
    {
     "name": "stdout",
     "output_type": "stream",
     "text": [
      "/home/bt3/15CS10057/dl\n"
     ]
    }
   ],
   "source": [
    "class DataLoader(object):\n",
    "    DIR=None\n",
    "    import os\n",
    "    print(os.getcwd())\n",
    "    \n",
    "    def __init__(self):\n",
    "        self.DIR = './'\n",
    "    \n",
    "    # Returns images and labels corresponding for training and testing. Default mode is train. \n",
    "    # For retrieving test data pass mode as 'test' in function call.\n",
    "    def load_data(self, mode = 'train'):\n",
    "        label_filename = mode + '_labels'\n",
    "        image_filename = mode + '_images'\n",
    "        label_zip = self.DIR + label_filename + '.zip'\n",
    "        image_zip = self.DIR + image_filename + '.zip'\n",
    "        with ZipFile(label_zip, 'r') as lblzip:\n",
    "            labels = np.frombuffer(lblzip.read(label_filename), dtype=np.uint8, offset=8)\n",
    "        with ZipFile(image_zip, 'r') as imgzip:\n",
    "            images = np.frombuffer(imgzip.read(image_filename), dtype=np.uint8, offset=16).reshape(len(labels), 784)\n",
    "        return images, labels\n",
    "    \n",
    "    \n",
    "    def create_batches(self,train_size):\n",
    "        '''\n",
    "        Handles the train-validation split \n",
    "        Params:\n",
    "            train_size: ratio of train_size : float\n",
    "        Returns:\n",
    "            images, labels, validation images, validation labels in that order\n",
    "        '''\n",
    "        img,labels=self.load_data()\n",
    "        n=labels.shape[0]\n",
    "        #split into train and validation data\n",
    "        validation_img=img[int(train_size*n):]\n",
    "        img=img[:int(train_size*n)]\n",
    "        validation_labels=labels[int(train_size*n):]\n",
    "        labels=labels[:int(train_size*n)]\n",
    "        return img, labels, validation_img, validation_labels        "
   ]
  },
  {
   "cell_type": "code",
   "execution_count": 4,
   "metadata": {},
   "outputs": [],
   "source": [
    "data_loader=DataLoader()\n",
    "data,label,val_data,val_labels=data_loader.create_batches(train_size=0.7)\n",
    "batch_size = 100\n",
    "ntrain = int(data.shape[0]*0.8)\n",
    "train_iter = mx.io.NDArrayIter(data, label, batch_size, shuffle=True)\n",
    "val_iter = mx.io.NDArrayIter(val_data, val_labels,batch_size=val_data.shape[0])"
   ]
  },
  {
   "cell_type": "code",
   "execution_count": 5,
   "metadata": {},
   "outputs": [],
   "source": [
    "n_epochs=50\n",
    "data_2 = mx.symbol.Variable('data')\n",
    "fc1_2  = mx.symbol.FullyConnected(data = data_2, num_hidden=1024)\n",
    "act1_2 = mx.symbol.Activation(data = fc1_2, act_type=\"relu\")\n",
    "fc2_2  = mx.symbol.FullyConnected(data = act1_2, num_hidden = 512)\n",
    "act2_2 = mx.symbol.Activation(data = fc2_2, act_type=\"relu\")\n",
    "fc3_2  = mx.symbol.FullyConnected(data = act2_2, num_hidden = 256)\n",
    "act3_2 = mx.symbol.Activation(data = fc3_2, act_type=\"relu\")\n",
    "\n",
    "#output layer\n",
    "fc4_2  = mx.symbol.FullyConnected(data = act3_2, num_hidden=10)\n",
    "mlp_2 = mx.symbol.SoftmaxOutput(data = fc4_2,name='softmax')"
   ]
  },
  {
   "cell_type": "markdown",
   "metadata": {},
   "source": [
    "***\n",
    "### Experiment 1"
   ]
  },
  {
   "cell_type": "markdown",
   "metadata": {},
   "source": [
    "#### Normal Initialization"
   ]
  },
  {
   "cell_type": "code",
   "execution_count": 14,
   "metadata": {},
   "outputs": [
    {
     "name": "stdout",
     "output_type": "stream",
     "text": [
      "Epoch 1, Training ('accuracy', 0.66466666666666663)\n",
      "Epoch 11, Training ('accuracy', 0.86850000000000005)\n",
      "Epoch 21, Training ('accuracy', 0.89069047619047614)\n",
      "Epoch 31, Training ('accuracy', 0.90835714285714286)\n",
      "Epoch 41, Training ('accuracy', 0.92528571428571427)\n",
      "Epoch 50, Training ('accuracy', 0.93778571428571433)\n"
     ]
    }
   ],
   "source": [
    "normal_init=[]\n",
    "mod = mx.mod.Module(symbol=mlp_2,\n",
    "                    context=mx.cpu(),\n",
    "                    data_names=['data'],\n",
    "                    label_names=['softmax_label'])\n",
    "\n",
    "# allocate memory given the input data and label shapes\n",
    "mod.bind(data_shapes=train_iter.provide_data, label_shapes=train_iter.provide_label)\n",
    "mod.init_params(mx.initializer.Normal(0.01))\n",
    "learn_rate=0.001\n",
    "mod.init_optimizer(optimizer='sgd', optimizer_params=(('learning_rate', learn_rate), ))\n",
    "# use accuracy as the metric\n",
    "metric = mx.metric.CrossEntropy()\n",
    "metric2= mx.metric.create('acc')\n",
    "for epoch in range(n_epochs):\n",
    "    train_iter.reset()\n",
    "    metric.reset()\n",
    "    metric2.reset()\n",
    "    for batch in train_iter:\n",
    "        mod.forward(batch, is_train=True)       # compute predictions\n",
    "        mod.update_metric(metric, batch.label)  # accumulate prediction loss\n",
    "        mod.update_metric(metric2, batch.label)  # accumulate prediction accuracy\n",
    "        mod.backward()                          # compute gradients\n",
    "        mod.update()                            # update parameters\n",
    "    loss=metric.get()\n",
    "    acc=metric2.get()\n",
    "    normal_init.append(loss)\n",
    "    if epoch%display_step==0 or epoch==n_epochs-1:\n",
    "        print('Epoch %d, Training %s' % (epoch+1,acc))"
   ]
  },
  {
   "cell_type": "markdown",
   "metadata": {},
   "source": [
    "***\n",
    "#### Xavier Initialization"
   ]
  },
  {
   "cell_type": "code",
   "execution_count": 15,
   "metadata": {},
   "outputs": [
    {
     "name": "stdout",
     "output_type": "stream",
     "text": [
      "Epoch 1, Training ('accuracy', 0.76530952380952377)\n",
      "Epoch 11, Training ('accuracy', 0.91880952380952385)\n",
      "Epoch 21, Training ('accuracy', 0.95002380952380949)\n",
      "Epoch 31, Training ('accuracy', 0.96999999999999997)\n",
      "Epoch 41, Training ('accuracy', 0.98371428571428576)\n",
      "Epoch 50, Training ('accuracy', 0.99152380952380947)\n"
     ]
    }
   ],
   "source": [
    "xavier_init=[]\n",
    "mod = mx.mod.Module(symbol=mlp_2,\n",
    "                    context=mx.cpu(),\n",
    "                    data_names=['data'],\n",
    "                    label_names=['softmax_label'])\n",
    "\n",
    "# allocate memory given the input data and label shapes\n",
    "mod.bind(data_shapes=train_iter.provide_data, label_shapes=train_iter.provide_label)\n",
    "mod.init_params(mx.initializer.Xavier(factor_type=\"in\", magnitude=2.34))\n",
    "learn_rate=0.001\n",
    "mod.init_optimizer(optimizer='sgd', optimizer_params=(('learning_rate', learn_rate), ))\n",
    "# use accuracy as the metric\n",
    "metric = mx.metric.CrossEntropy()\n",
    "metric2= mx.metric.create('acc')\n",
    "for epoch in range(n_epochs):\n",
    "    train_iter.reset()\n",
    "    metric.reset()\n",
    "    metric2.reset()\n",
    "    for batch in train_iter:\n",
    "        mod.forward(batch, is_train=True)       # compute predictions\n",
    "        mod.update_metric(metric, batch.label)  # accumulate prediction loss\n",
    "        mod.update_metric(metric2, batch.label)  # accumulate prediction accuracy\n",
    "        mod.backward()                          # compute gradients\n",
    "        mod.update()                            # update parameters\n",
    "    loss=metric.get()\n",
    "    acc=metric2.get()\n",
    "    xavier_init.append(loss)\n",
    "    if epoch%display_step==0 or epoch==n_epochs-1:\n",
    "        print('Epoch %d, Training %s' % (epoch+1,acc))"
   ]
  },
  {
   "cell_type": "markdown",
   "metadata": {},
   "source": [
    "***\n",
    "#### Orthogonal Initialization"
   ]
  },
  {
   "cell_type": "code",
   "execution_count": 16,
   "metadata": {},
   "outputs": [
    {
     "name": "stdout",
     "output_type": "stream",
     "text": [
      "Epoch 1, Training ('accuracy', 0.68757142857142861)\n",
      "Epoch 11, Training ('accuracy', 0.87447619047619052)\n",
      "Epoch 21, Training ('accuracy', 0.89728571428571424)\n",
      "Epoch 31, Training ('accuracy', 0.9103809523809524)\n",
      "Epoch 41, Training ('accuracy', 0.92026190476190473)\n",
      "Epoch 50, Training ('accuracy', 0.92792857142857144)\n"
     ]
    }
   ],
   "source": [
    "ortho_init=[]\n",
    "mod = mx.mod.Module(symbol=mlp_2,\n",
    "                    context=mx.cpu(),\n",
    "                    data_names=['data'],\n",
    "                    label_names=['softmax_label'])\n",
    "\n",
    "# allocate memory given the input data and label shapes\n",
    "mod.bind(data_shapes=train_iter.provide_data, label_shapes=train_iter.provide_label)\n",
    "mod.init_params(mx.initializer.Orthogonal())\n",
    "learn_rate=0.001\n",
    "mod.init_optimizer(optimizer='sgd', optimizer_params=(('learning_rate', learn_rate), ))\n",
    "# use accuracy as the metric\n",
    "metric = mx.metric.CrossEntropy()\n",
    "metric2= mx.metric.create('acc')\n",
    "for epoch in range(n_epochs):\n",
    "    train_iter.reset()\n",
    "    metric.reset()\n",
    "    metric2.reset()\n",
    "    for batch in train_iter:\n",
    "        mod.forward(batch, is_train=True)       # compute predictions\n",
    "        mod.update_metric(metric, batch.label)  # accumulate prediction loss\n",
    "        mod.update_metric(metric2, batch.label)  # accumulate prediction accuracy\n",
    "        mod.backward()                          # compute gradients\n",
    "        mod.update()                            # update parameters\n",
    "    loss=metric.get()\n",
    "    acc=metric2.get()\n",
    "    ortho_init.append(loss)\n",
    "    if epoch%display_step==0 or epoch==n_epochs-1:\n",
    "        print('Epoch %d, Training %s' % (epoch+1,acc))"
   ]
  },
  {
   "cell_type": "markdown",
   "metadata": {},
   "source": [
    "### Loading network 2 data:"
   ]
  },
  {
   "cell_type": "code",
   "execution_count": 22,
   "metadata": {},
   "outputs": [],
   "source": [
    "import pickle\n",
    "train_2_loss=pickle.load(open('train_2_loss','rb'))"
   ]
  },
  {
   "cell_type": "markdown",
   "metadata": {},
   "source": [
    "### Plotting relevant data"
   ]
  },
  {
   "cell_type": "code",
   "execution_count": 24,
   "metadata": {},
   "outputs": [
    {
     "data": {
      "image/png": "[encoded data removed]",
      "text/plain": [
       "<Figure size 720x360 with 1 Axes>"
      ]
     },
     "metadata": {
      "needs_background": "light"
     },
     "output_type": "display_data"
    }
   ],
   "source": [
    "import matplotlib.pyplot as plt\n",
    "%matplotlib inline\n",
    "plt.figure(figsize=(10, 5))\n",
    "\n",
    "l1,l2,l3,l4=plt.plot(range(1,51),[v[1] for v in normal_init],range(1,51),[v[1] for v in xavier_init],\\\n",
    "              range(1,51),[v[1] for v in ortho_init],range(1,51),[v[1] for v in train_2_loss])\n",
    "plt.setp(l1,linewidth=2,color='r')\n",
    "plt.setp(l2,linewidth=2,color='y')\n",
    "plt.setp(l3,linewidth=2,color='g')\n",
    "plt.setp(l4,linewidth=2,color='b')\n",
    "plt.legend([l1,l2,l3,l4],['Normal','Xavier','Orthogonal','Uniform(of network 2)'])\n",
    "plt.xlabel('#epochs')\n",
    "plt.ylabel('Losses')\n",
    "plt.title('Cross-Entropy Losses Comparison')\n",
    "plt.show()\n"
   ]
  },
  {
   "cell_type": "markdown",
   "metadata": {},
   "source": [
    "***\n",
    "### Experiment 2 : Batch Normalization\n",
    "\n",
    "**Applying BN layer after second hiddern layer:**"
   ]
  },
  {
   "cell_type": "code",
   "execution_count": 27,
   "metadata": {},
   "outputs": [
    {
     "name": "stdout",
     "output_type": "stream",
     "text": [
      "Epoch 1, Training ('accuracy', 0.59114285714285719)\n",
      "Epoch 3, Training ('accuracy', 0.78261904761904766)\n",
      "Epoch 5, Training ('accuracy', 0.80840476190476196)\n",
      "Epoch 7, Training ('accuracy', 0.82269047619047619)\n",
      "Epoch 9, Training ('accuracy', 0.83388095238095239)\n",
      "Epoch 10, Training ('accuracy', 0.83797619047619043)\n"
     ]
    }
   ],
   "source": [
    "n_epochs=10\n",
    "display_step=2\n",
    "data_3 = mx.symbol.Variable('data')\n",
    "fc1_3  = mx.symbol.FullyConnected(data = data_3, num_hidden=1024)\n",
    "act1_3 = mx.symbol.Activation(data = fc1_3, act_type=\"relu\")\n",
    "#bn1_3 = mx.symbol.BatchNorm(data=act1_3)\n",
    "fc2_3  = mx.symbol.FullyConnected(data = act1_3, num_hidden = 512)\n",
    "act2_3 = mx.symbol.Activation(data = fc2_3, act_type=\"relu\")\n",
    "bn2_3 = mx.symbol.BatchNorm(data=act2_3)\n",
    "fc3_3  = mx.symbol.FullyConnected(data = bn2_3, num_hidden = 256)\n",
    "act3_3 = mx.symbol.Activation(data = fc3_3, act_type=\"relu\")\n",
    "#bn3_3 = mx.symbol.BatchNorm(data=act3_3)\n",
    "#output layer\n",
    "fc4_3  = mx.symbol.FullyConnected(data = act3_3, num_hidden=10)\n",
    "mlp_3 = mx.symbol.SoftmaxOutput(data = fc4_3,name='softmax')\n",
    "\n",
    "\n",
    "bn=[]\n",
    "mod_3 = mx.mod.Module(symbol=mlp_3,\n",
    "                    context=mx.cpu(),\n",
    "                    data_names=['data'],\n",
    "                    label_names=['softmax_label'])\n",
    "\n",
    "# allocate memory given the input data and label shapes\n",
    "mod_3.bind(data_shapes=train_iter.provide_data, label_shapes=train_iter.provide_label)\n",
    "mod_3.init_params(mx.initializer.Uniform(scale=0.1))\n",
    "learn_rate=0.001\n",
    "mod_3.init_optimizer(optimizer='sgd', optimizer_params=(('learning_rate', learn_rate), ))\n",
    "# use accuracy as the metric\n",
    "metric = mx.metric.CrossEntropy()\n",
    "metric2= mx.metric.create('acc')\n",
    "for epoch in range(n_epochs):\n",
    "    train_iter.reset()\n",
    "    metric.reset()\n",
    "    metric2.reset()\n",
    "    for batch in train_iter:\n",
    "        mod_3.forward(batch, is_train=True)       # compute predictions\n",
    "        mod_3.update_metric(metric, batch.label)  # accumulate prediction loss\n",
    "        mod_3.update_metric(metric2, batch.label)  # accumulate prediction accuracy\n",
    "        mod_3.backward()                          # compute gradients\n",
    "        mod_3.update()                            # update parameters\n",
    "    loss=metric.get()\n",
    "    acc=metric2.get()\n",
    "    bn.append(loss)\n",
    "    if epoch%display_step==0 or epoch==n_epochs-1:\n",
    "        print('Epoch %d, Training %s' % (epoch+1,acc))"
   ]
  },
  {
   "cell_type": "code",
   "execution_count": 30,
   "metadata": {},
   "outputs": [
    {
     "data": {
      "image/png": "[encoded data removed]",
      "text/plain": [
       "<Figure size 432x288 with 1 Axes>"
      ]
     },
     "metadata": {
      "needs_background": "light"
     },
     "output_type": "display_data"
    }
   ],
   "source": [
    "l1,l2=plt.plot(range(1,11),[v[1] for v in bn],range(1,11),[v[1] for v in train_2_loss[:10]])\n",
    "plt.setp(l1,linewidth=2,color='r')\n",
    "plt.setp(l2,linewidth=2,color='b')\n",
    "plt.legend([l1,l2],['Batch_Normalization','network 2'])\n",
    "plt.xlabel('#epochs')\n",
    "plt.ylabel('Losses')\n",
    "plt.title('Cross-Entropy Losses Comparison')\n",
    "plt.show()"
   ]
  },
  {
   "cell_type": "code",
   "execution_count": 31,
   "metadata": {},
   "outputs": [],
   "source": [
    "mod_3.save_params('batch_norm')"
   ]
  },
  {
   "cell_type": "markdown",
   "metadata": {},
   "source": [
    "***\n",
    "### Experiment 3: Regularizations\n",
    "\n",
    "- Dropouts applied on middle layer only"
   ]
  },
  {
   "cell_type": "code",
   "execution_count": 36,
   "metadata": {},
   "outputs": [
    {
     "name": "stdout",
     "output_type": "stream",
     "text": [
      "Epoch 1, Training ('accuracy', 0.66302380952380957)\n",
      "Epoch 6, Training ('accuracy', 0.79440476190476195)\n",
      "Epoch 10, Training ('accuracy', 0.82199999999999995)\n",
      "Epoch 1, Training ('accuracy', 0.63352380952380949)\n",
      "Epoch 6, Training ('accuracy', 0.76245238095238099)\n",
      "Epoch 10, Training ('accuracy', 0.78711904761904761)\n",
      "Epoch 1, Training ('accuracy', 0.53900000000000003)\n",
      "Epoch 6, Training ('accuracy', 0.67002380952380958)\n",
      "Epoch 10, Training ('accuracy', 0.69714285714285718)\n"
     ]
    }
   ],
   "source": [
    "regs=[0.1,0.4,0.6]\n",
    "n_epochs=10\n",
    "display_step=5\n",
    "drop_loss=[]\n",
    "\n",
    "for reg in regs:\n",
    "    drop=[]\n",
    "    data_4 = mx.symbol.Variable('data')\n",
    "    fc1_4  = mx.symbol.FullyConnected(data = data_4, num_hidden=1024)\n",
    "    act1_4 = mx.symbol.Activation(data = fc1_4, act_type=\"relu\")\n",
    "    #dr1_4 = mx.symbol.Dropout(data=act1_4,p=reg)\n",
    "    fc2_4  = mx.symbol.FullyConnected(data = act1_4, num_hidden = 512)\n",
    "    act2_4 = mx.symbol.Activation(data = fc2_4, act_type=\"relu\")\n",
    "    dr2_4 = mx.symbol.Dropout(data=act2_4,p=reg)\n",
    "    fc3_4  = mx.symbol.FullyConnected(data = dr2_4, num_hidden = 256)\n",
    "    act3_4 = mx.symbol.Activation(data = fc3_4, act_type=\"relu\")\n",
    "    #dr3_4 = mx.symbol.Dropout(data=act3_4,p=reg)\n",
    "    #output layer\n",
    "    fc4_4  = mx.symbol.FullyConnected(data = act3_4, num_hidden=10)\n",
    "    mlp_4 = mx.symbol.SoftmaxOutput(data = fc4_4,name='softmax')\n",
    "\n",
    "\n",
    "    bn=[]\n",
    "    mod_4 = mx.mod.Module(symbol=mlp_4,\n",
    "                        context=mx.cpu(),\n",
    "                        data_names=['data'],\n",
    "                        label_names=['softmax_label'])\n",
    "\n",
    "    # allocate memory given the input data and label shapes\n",
    "    mod_4.bind(data_shapes=train_iter.provide_data, label_shapes=train_iter.provide_label)\n",
    "    mod_4.init_params(mx.initializer.Uniform(scale=0.1))\n",
    "    learn_rate=0.001\n",
    "    mod_4.init_optimizer(optimizer='sgd', optimizer_params=(('learning_rate', learn_rate), ))\n",
    "    # use accuracy as the metric\n",
    "    metric = mx.metric.CrossEntropy()\n",
    "    metric2= mx.metric.create('acc')\n",
    "    for epoch in range(n_epochs):\n",
    "        train_iter.reset()\n",
    "        metric.reset()\n",
    "        metric2.reset()\n",
    "        for batch in train_iter:\n",
    "            mod_4.forward(batch, is_train=True)       # compute predictions\n",
    "            mod_4.update_metric(metric, batch.label)  # accumulate prediction loss\n",
    "            mod_4.update_metric(metric2, batch.label)  # accumulate prediction accuracy\n",
    "            mod_4.backward()                          # compute gradients\n",
    "            mod_4.update()                            # update parameters\n",
    "        loss=metric.get()\n",
    "        acc=metric2.get()\n",
    "        drop.append(loss)\n",
    "        if epoch%display_step==0 or epoch==n_epochs-1:\n",
    "            print('Epoch %d, Training %s' % (epoch+1,acc))\n",
    "    drop_loss.append(drop)\n",
    "    mod_4.save_params('dropout_'+str(reg))"
   ]
  },
  {
   "cell_type": "code",
   "execution_count": 37,
   "metadata": {},
   "outputs": [
    {
     "data": {
      "image/png": "[encoded data removed]",
      "text/plain": [
       "<Figure size 432x288 with 1 Axes>"
      ]
     },
     "metadata": {
      "needs_background": "light"
     },
     "output_type": "display_data"
    }
   ],
   "source": [
    "l1,l2,l3,l4=plt.plot(range(1,11),[v[1] for v in drop_loss[0]],range(1,11),[v[1] for v in drop_loss[1]],\\\n",
    "              range(1,11),[v[1] for v in drop_loss[2]],range(1,11),[v[1] for v in train_2_loss[:10]])\n",
    "plt.setp(l1,linewidth=2,color='r')\n",
    "plt.setp(l2,linewidth=2,color='y')\n",
    "plt.setp(l3,linewidth=2,color='g')\n",
    "plt.setp(l4,linewidth=2,color='b')\n",
    "plt.legend([l1,l2,l3,l4],['Dropout=0.1','Dropout=0.4','Dropout=0.6','No dropout(of network 2)'])\n",
    "plt.xlabel('#epochs')\n",
    "plt.ylabel('Losses')\n",
    "plt.title('Cross-Entropy Losses Comparison')\n",
    "plt.show()"
   ]
  },
  {
   "cell_type": "markdown",
   "metadata": {},
   "source": [
    "***\n",
    "### Experiment 4: Optimizers"
   ]
  },
  {
   "cell_type": "code",
   "execution_count": 40,
   "metadata": {},
   "outputs": [
    {
     "name": "stdout",
     "output_type": "stream",
     "text": [
      "Epoch 1, Training ('accuracy', 0.75983333333333336)\n",
      "Epoch 6, Training ('accuracy', 0.87764285714285717)\n",
      "Epoch 10, Training ('accuracy', 0.88804761904761909)\n",
      "Epoch 1, Training ('accuracy', 0.70021428571428568)\n",
      "Epoch 6, Training ('accuracy', 0.84319047619047616)\n",
      "Epoch 10, Training ('accuracy', 0.86304761904761906)\n",
      "Epoch 1, Training ('accuracy', 0.67138095238095241)\n",
      "Epoch 6, Training ('accuracy', 0.84159523809523806)\n",
      "Epoch 10, Training ('accuracy', 0.85576190476190472)\n",
      "Epoch 1, Training ('accuracy', 0.53680952380952385)\n",
      "Epoch 6, Training ('accuracy', 0.78890476190476189)\n",
      "Epoch 10, Training ('accuracy', 0.83161904761904759)\n",
      "Epoch 1, Training ('accuracy', 0.76226190476190481)\n",
      "Epoch 6, Training ('accuracy', 0.87385714285714289)\n",
      "Epoch 10, Training ('accuracy', 0.90359523809523812)\n"
     ]
    }
   ],
   "source": [
    "opts=['adam','nag','rmsprop','adadelta','adagrad']\n",
    "n_epochs=10\n",
    "display_step=5\n",
    "optm_loss=[]\n",
    "data_5 = mx.symbol.Variable('data')\n",
    "fc1_5  = mx.symbol.FullyConnected(data = data_5, num_hidden=1024)\n",
    "act1_5 = mx.symbol.Activation(data = fc1_5, act_type=\"relu\")\n",
    "fc2_5  = mx.symbol.FullyConnected(data = act1_5, num_hidden = 512)\n",
    "act2_5 = mx.symbol.Activation(data = fc2_5, act_type=\"relu\")\n",
    "fc3_5  = mx.symbol.FullyConnected(data = act2_5, num_hidden = 256)\n",
    "act3_5 = mx.symbol.Activation(data = fc3_5, act_type=\"relu\")\n",
    "#output layer\n",
    "fc4_5  = mx.symbol.FullyConnected(data = act3_5, num_hidden=10)\n",
    "mlp_5 = mx.symbol.SoftmaxOutput(data = fc4_5,name='softmax')\n",
    "\n",
    "learn_rate=0.001\n",
    "\n",
    "for opt in opts:\n",
    "    mod_5 = mx.mod.Module(symbol=mlp_5,\n",
    "                    context=mx.cpu(),\n",
    "                    data_names=['data'],\n",
    "                    label_names=['softmax_label'])\n",
    "\n",
    "    # allocate memory given the input data and label shapes\n",
    "    mod_5.bind(data_shapes=train_iter.provide_data, label_shapes=train_iter.provide_label)\n",
    "    mod_5.init_params(mx.initializer.Uniform(scale=0.1))\n",
    "    o_loss=[]\n",
    "    mod_5.init_optimizer(optimizer=opt, optimizer_params=(('learning_rate', learn_rate), ))\n",
    "    # use accuracy as the metric\n",
    "    metric = mx.metric.CrossEntropy()\n",
    "    metric2= mx.metric.create('acc')\n",
    "    for epoch in range(n_epochs):\n",
    "        train_iter.reset()\n",
    "        metric.reset()\n",
    "        metric2.reset()\n",
    "        for batch in train_iter:\n",
    "            mod_5.forward(batch, is_train=True)       # compute predictions\n",
    "            mod_5.update_metric(metric, batch.label)  # accumulate prediction loss\n",
    "            mod_5.update_metric(metric2, batch.label)  # accumulate prediction accuracy\n",
    "            mod_5.backward()                          # compute gradients\n",
    "            mod_5.update()                            # update parameters\n",
    "        loss=metric.get()\n",
    "        acc=metric2.get()\n",
    "        o_loss.append(loss)\n",
    "        if epoch%display_step==0 or epoch==n_epochs-1:\n",
    "            print('Epoch %d, Training %s' % (epoch+1,acc))\n",
    "    optm_loss.append(o_loss)\n",
    "    mod_5.save_params('optimizer_'+opt)"
   ]
  },
  {
   "cell_type": "code",
   "execution_count": 44,
   "metadata": {},
   "outputs": [
    {
     "data": {
      "image/png": "[encoded data removed]",
      "text/plain": [
       "<Figure size 432x288 with 1 Axes>"
      ]
     },
     "metadata": {
      "needs_background": "light"
     },
     "output_type": "display_data"
    }
   ],
   "source": [
    "l1,l2,l3,l4,l5,l6=plt.plot(range(1,11),[v[1] for v in optm_loss[0]],range(1,11),[v[1] for v in optm_loss[1]],\\\n",
    "              range(1,11),[v[1] for v in optm_loss[2]],range(1,11),[v[1] for v in optm_loss[3]],\\\n",
    "                     range(1,11),[v[1] for v in optm_loss[4]],range(1,11),[v[1] for v in train_2_loss[:10]])\n",
    "plt.setp(l1,linewidth=2,color='r')\n",
    "plt.setp(l2,linewidth=2,color='y')\n",
    "plt.setp(l3,linewidth=2,color='g')\n",
    "plt.setp(l4,linewidth=2,color='b')\n",
    "plt.setp(l5,linewidth=2,color='k')\n",
    "plt.setp(l6,linewidth=2,color='c')\n",
    "plt.legend([l1,l2,l3,l4,l5,l6],['ADAM','NAG','RMSProp','AdaDelta','AdaGrad','SGD(network 2)'])\n",
    "plt.xlabel('#epochs')\n",
    "plt.ylabel('Losses')\n",
    "plt.title('Cross-Entropy Losses Comparison')\n",
    "plt.show()"
   ]
  }
 ],
 "metadata": {
  "kernelspec": {
   "display_name": "Python [conda env:py36]",
   "language": "python",
   "name": "conda-env-py36-py"
  },
  "language_info": {
   "codemirror_mode": {
    "name": "ipython",
    "version": 3
   },
   "file_extension": ".py",
   "mimetype": "text/x-python",
   "name": "python",
   "nbconvert_exporter": "python",
   "pygments_lexer": "ipython3",
   "version": "3.6.5"
  }
 },
 "nbformat": 4,
 "nbformat_minor": 2
}
